{
 "cells": [
  {
   "cell_type": "markdown",
   "id": "368e9a2e",
   "metadata": {},
   "source": [
    "# Mais aplicações para o on_delete do modelo de Post"
   ]
  },
  {
   "cell_type": "markdown",
   "id": "8264462f",
   "metadata": {},
   "source": []
  }
 ],
 "metadata": {
  "language_info": {
   "name": "python"
  }
 },
 "nbformat": 4,
 "nbformat_minor": 5
}
